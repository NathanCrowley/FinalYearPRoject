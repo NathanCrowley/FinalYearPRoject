{
 "cells": [
  {
   "cell_type": "markdown",
   "id": "f01d212c",
   "metadata": {},
   "source": [
    "# Python API for visualisation of sets\n",
    "#### Department of Computer Science BSc Computer Science University College Cork\n",
    "#### Nathan John Crowley 118429092\n",
    "####  Dr Rosane Minghim"
   ]
  },
  {
   "cell_type": "markdown",
   "id": "e28d92f5",
   "metadata": {},
   "source": [
    "# Abstract\n",
    "The project involves creating a Python API/ library to be used by students or academic\n",
    "professionals with the aim of visualising sets, using InteractiVenn’s approach to Set\n",
    "Visualisation, to allow a greater understanding of given sets, and their unions and\n",
    "intersections. The Python API developed should allow users to input up to six sets of data to\n",
    "be visualised as an interactive Venn Diagram with functionality that:\n",
    "- 1) Allow users to visualise the union and intersections of the given complex input sets.\n",
    "- 2) Allow users to hover over set unions and present the elements of a given set.\n",
    "\n",
    "The developed Python API should take into account that the users may have little or no\n",
    "technical skills, this should direct the design towards being as easy as possible to use for the\n",
    "target audience. The documentation of the Python API must have clear and concise\n",
    "information on its functionality, along with concrete examples displaying to the user the\n",
    "operations that can be performed.\n",
    "The project includes running and evaluating the developed Python API by itself as well as\n",
    "against an established API, UpSet – Visualising Intersecting Sets, to highlight the advantages\n",
    "and disadvantages of each API given a number of examples."
   ]
  },
  {
   "cell_type": "markdown",
   "id": "a1f3cc00",
   "metadata": {},
   "source": [
    "# Import the API from PyPI"
   ]
  },
  {
   "cell_type": "code",
   "execution_count": 28,
   "id": "cfd6423d",
   "metadata": {
    "scrolled": true
   },
   "outputs": [
    {
     "name": "stdout",
     "output_type": "stream",
     "text": [
      "Requirement already satisfied: DrawVennDiagram==0.3.0 in /home/nathan/.local/lib/python3.8/site-packages (0.3.0)\n",
      "Requirement already satisfied: matplotlib in /home/nathan/.local/lib/python3.8/site-packages (from DrawVennDiagram==0.3.0) (3.4.3)\n",
      "Requirement already satisfied: matplotlib-venn in /home/nathan/.local/lib/python3.8/site-packages (from DrawVennDiagram==0.3.0) (0.11.6)\n",
      "Requirement already satisfied: python-dateutil>=2.7 in /usr/lib/python3/dist-packages (from matplotlib->DrawVennDiagram==0.3.0) (2.7.3)\n",
      "Requirement already satisfied: pyparsing>=2.2.1 in /home/nathan/.local/lib/python3.8/site-packages (from matplotlib->DrawVennDiagram==0.3.0) (2.4.7)\n",
      "Requirement already satisfied: numpy>=1.16 in /home/nathan/.local/lib/python3.8/site-packages (from matplotlib->DrawVennDiagram==0.3.0) (1.21.2)\n",
      "Requirement already satisfied: pillow>=6.2.0 in /usr/lib/python3/dist-packages (from matplotlib->DrawVennDiagram==0.3.0) (7.0.0)\n",
      "Requirement already satisfied: kiwisolver>=1.0.1 in /home/nathan/.local/lib/python3.8/site-packages (from matplotlib->DrawVennDiagram==0.3.0) (1.3.1)\n",
      "Requirement already satisfied: cycler>=0.10 in /home/nathan/.local/lib/python3.8/site-packages (from matplotlib->DrawVennDiagram==0.3.0) (0.10.0)\n",
      "Requirement already satisfied: scipy in /home/nathan/.local/lib/python3.8/site-packages (from matplotlib-venn->DrawVennDiagram==0.3.0) (1.7.1)\n",
      "Requirement already satisfied: six in /usr/lib/python3/dist-packages (from cycler>=0.10->matplotlib->DrawVennDiagram==0.3.0) (1.14.0)\n",
      "Note: you may need to restart the kernel to use updated packages.\n"
     ]
    }
   ],
   "source": [
    "pip install DrawVennDiagram==0.3.0"
   ]
  },
  {
   "cell_type": "code",
   "execution_count": 29,
   "id": "b2fc4482",
   "metadata": {},
   "outputs": [],
   "source": [
    "from DrawVennDiagram import *"
   ]
  },
  {
   "cell_type": "markdown",
   "id": "0a8914d4",
   "metadata": {},
   "source": [
    "# Read in the data file \n",
    "- **Labels**: The set names read in from the input data.\n",
    "- **Original Values**: These are the original raw set values taken from the input data.\n",
    "- **Mapped Values**: The API required integer values as inputs to the system. Therefore I created an in-built function in the API that will take the biological and map each raw value to a unique integer value."
   ]
  },
  {
   "cell_type": "code",
   "execution_count": 30,
   "id": "7e0bb0f2",
   "metadata": {},
   "outputs": [
    {
     "name": "stdout",
     "output_type": "stream",
     "text": [
      "Labels: ['name1', 'nAme 2', 'Na_Me3', 'Na_Me4', 'Na_Me', 'Na_Me'] \n",
      "\n",
      "Origninal Values: [['e1', 'w2', 'f3', 'e', '3', '4'], ['e122', 'w23', 'f3', 'e', '3', '4', '5', '6', '7', 'g', 'r', 't', 'y', 'd'], ['e1', 'w2', 'f3', 'e', '3', '4', 'w', 'q', 'a', 's', 'd', 'f', 'g', 'h', 'r', 't'], ['4', 'w', 'q', 'a', 's', 'd', 'f', 'g', 'h', 'r', 't', 'm', 'b', 'v', '65', '34', '23'], ['44', 'w4', 'q4', 'a4', 's4', 'd4', 'f4', 'g4', 'h4', 'r4', 't4', 'g', 'm', 'b', 'v', '653', '343', '23'], ['43', 'w3', 'q3', 'a3', 's3', 'd3', 'f3', 'g3', 'h3', 'r3', 't3', 'g', 'm3', 'b3', 'v', '65', '34', '23']] \n",
      "\n",
      "Mapped Values: [[22, 49, 25, 21, 2, 5], [23, 50, 25, 21, 2, 5, 8, 9, 12, 27, 38, 44, 53, 18], [22, 49, 25, 21, 2, 5, 48, 35, 13, 41, 18, 24, 27, 30, 38, 44]] \n",
      "\n"
     ]
    }
   ],
   "source": [
    "# State input file\n",
    "file = \"test_model.ivenn\"\n",
    "\n",
    "# Read in data using API's in-built \"read_data(file)\"\n",
    "data = read_data(file)\n",
    "\n",
    "# Set input data to variables\n",
    "labels = data[0]\n",
    "mapped_values = data[1]\n",
    "values = data[2]\n",
    "\n",
    "print(\"Labels:\",labels,\"\\n\")\n",
    "print(\"Origninal Values:\",values,\"\\n\")\n",
    "print(\"Mapped Values:\",mapped_values,\"\\n\")"
   ]
  },
  {
   "cell_type": "markdown",
   "id": "91438df3",
   "metadata": {},
   "source": [
    "# Test Biological data in API\n",
    "- Test the input file, \"test_model.ivenn\" using the Python API created."
   ]
  },
  {
   "cell_type": "markdown",
   "id": "17221548",
   "metadata": {},
   "source": [
    "# How to interact with Python API\n",
    "- **Step 1**: Create Python set objects with mapped values as inputs.\n",
    "- **Step 2**: Create a Sets tuple, which contains the Python set objects created in **Step 1**.\n",
    "- **Step 3**: State the labels you wish to display.\n",
    "- **Step 4**: Create a \"drawVenn\" object, giving the sets tuple from **Step2** and labels from **Step3** as input parameters.\n",
    "- **Step 5**: Print the \"drawVenn\" object using the overridden String method of the API."
   ]
  },
  {
   "cell_type": "markdown",
   "id": "4bef6527",
   "metadata": {},
   "source": [
    "## 2 Set Venn Diagram using API\n",
    "- The API will automatically create a 2-set Venn diagram from the set and label tuples given to the drawVenn object.\n",
    "    - The API will generate a 2-set or 3-set diagram automatically based on the number if set labels inputs."
   ]
  },
  {
   "cell_type": "code",
   "execution_count": 31,
   "id": "77fffa0a",
   "metadata": {},
   "outputs": [
    {
     "data": {
      "image/png": "[encoded data removed]",
      "text/plain": [
       "<Figure size 432x288 with 1 Axes>"
      ]
     },
     "metadata": {},
     "output_type": "display_data"
    }
   ],
   "source": [
    "#Step 1: Create Python set objects with mapped values as inputs.\n",
    "set1 = set(mapped_values[0])\n",
    "set2 = set(mapped_values[1])\n",
    "\n",
    "#Step 2: Create a Sets tuple, which contains the Python set objects created in **Step 1**.\n",
    "sets = (set1,set2)\n",
    "\n",
    "#Step 3: State the labels you wish to display.\n",
    "l2 = labels[0:2]\n",
    "\n",
    "#Step 4: Create a \"drawVenn\" object, giving the sets tuple from **Step2** and labels from **Step3** as input parameters.\n",
    "v = drawVenn(sets,l2)"
   ]
  },
  {
   "cell_type": "markdown",
   "id": "2108e673",
   "metadata": {},
   "source": [
    "# 3 Set Venn Diagram using API\n",
    "- The API will automatically create a 3-set Venn diagram from the set and label tuples given to the drawVenn object.\n",
    "    - The API will generate a 2-set or 3-set diagram automatically based on the number if set labels inputs."
   ]
  },
  {
   "cell_type": "code",
   "execution_count": 32,
   "id": "2ddfd42f",
   "metadata": {},
   "outputs": [
    {
     "data": {
      "image/png": "[encoded data removed]",
      "text/plain": [
       "<Figure size 432x288 with 1 Axes>"
      ]
     },
     "metadata": {},
     "output_type": "display_data"
    }
   ],
   "source": [
    "#Step 1: Create Python set objects with mapped values as inputs.\n",
    "set1 = set(mapped_values[0])\n",
    "set2 = set(mapped_values[1])\n",
    "set3 = set(mapped_values[2])\n",
    "\n",
    "#Step 2: Create a Sets tuple, which contains the Python set objects created in **Step 1**.\n",
    "sets = (set1,set2,set3)\n",
    "\n",
    "#Step 3: State the labels you wish to display.\n",
    "l3 = labels[0:3]\n",
    "\n",
    "#Step 4: Create a \"drawVenn\" object, giving the sets tuple from **Step2** and labels from **Step3** as input parameters.\n",
    "v2 = drawVenn(sets,l3,True)"
   ]
  },
  {
   "cell_type": "markdown",
   "id": "6ea8058e",
   "metadata": {},
   "source": [
    "# 2 Set - Weighted vs Unweighted"
   ]
  },
  {
   "cell_type": "markdown",
   "id": "44a2b0b1",
   "metadata": {},
   "source": [
    "## Weighted\n",
    "- A weighted set has size correlated to the magnitude of the set value."
   ]
  },
  {
   "cell_type": "code",
   "execution_count": 33,
   "id": "2a769e39",
   "metadata": {},
   "outputs": [
    {
     "data": {
      "image/png": "[encoded data removed]",
      "text/plain": [
       "<Figure size 432x288 with 1 Axes>"
      ]
     },
     "metadata": {},
     "output_type": "display_data"
    }
   ],
   "source": [
    "set1 = set(mapped_values[0])\n",
    "set2 = set(mapped_values[1])\n",
    "\n",
    "sets = (set1,set2)\n",
    "l2 = labels[0:2]\n",
    "\n",
    "vw = drawVenn(sets,l2)"
   ]
  },
  {
   "cell_type": "markdown",
   "id": "6a0a2cca",
   "metadata": {},
   "source": [
    "## Unweighted\n",
    "- Set the third argument of the drawVenn object to True to produce unweighted diagram.\n",
    "    - The API will automatically recalibrate the outputted diagram.\n",
    "- Unweighted just allows all sets to be equal size, regarless of the values in the sets."
   ]
  },
  {
   "cell_type": "code",
   "execution_count": 34,
   "id": "72847208",
   "metadata": {},
   "outputs": [
    {
     "data": {
      "image/png": "[encoded data removed]",
      "text/plain": [
       "<Figure size 432x288 with 1 Axes>"
      ]
     },
     "metadata": {},
     "output_type": "display_data"
    }
   ],
   "source": [
    "set1 = set(mapped_values[0])\n",
    "set2 = set(mapped_values[1])\n",
    "\n",
    "sets = (set1,set2)\n",
    "l2 = labels[0:2]\n",
    "\n",
    "vuw = drawVenn(sets,l2,True)"
   ]
  },
  {
   "cell_type": "markdown",
   "id": "c392e94a",
   "metadata": {},
   "source": [
    "# Modify the Venn Diagram set colours\n",
    "- Set colours can be manually selected before the drawVenn object is created.\n",
    "- The drawVenn API will default the set colours to red,green,blue."
   ]
  },
  {
   "cell_type": "code",
   "execution_count": 35,
   "id": "5ca7d40f",
   "metadata": {},
   "outputs": [
    {
     "data": {
      "image/png": "[encoded data removed]",
      "text/plain": [
       "<Figure size 432x288 with 1 Axes>"
      ]
     },
     "metadata": {},
     "output_type": "display_data"
    }
   ],
   "source": [
    "set1 = set(mapped_values[0])\n",
    "set2 = set(mapped_values[1])\n",
    "\n",
    "sets = (set1,set2)\n",
    "l2 = labels[0:2]\n",
    "\n",
    "colours = ('purple','skyblue')\n",
    "\n",
    "vp = drawVenn(sets,l2,colors=colours)"
   ]
  },
  {
   "cell_type": "markdown",
   "id": "3dad27f8",
   "metadata": {},
   "source": [
    "# Modify the Circle border \n",
    "- Solid circle border can be created using the set_solid_circles() method.\n",
    "- Dashed circle borders can be added using the set_dashed_circles() method."
   ]
  },
  {
   "cell_type": "code",
   "execution_count": 36,
   "id": "58de7ea8",
   "metadata": {},
   "outputs": [
    {
     "data": {
      "image/png": "[encoded data removed]",
      "text/plain": [
       "<Figure size 432x288 with 1 Axes>"
      ]
     },
     "metadata": {},
     "output_type": "display_data"
    }
   ],
   "source": [
    "set1 = set(mapped_values[0])\n",
    "set2 = set(mapped_values[1])\n",
    "\n",
    "sets = (set1,set2)\n",
    "l2 = labels[0:2]\n",
    "\n",
    "drawVenn(sets,l2)\n",
    "v.set_solid_circles()"
   ]
  },
  {
   "cell_type": "code",
   "execution_count": 37,
   "id": "1499c38b",
   "metadata": {},
   "outputs": [
    {
     "data": {
      "image/png": "[encoded data removed]",
      "text/plain": [
       "<Figure size 432x288 with 1 Axes>"
      ]
     },
     "metadata": {},
     "output_type": "display_data"
    }
   ],
   "source": [
    "set1 = set(mapped_values[0])\n",
    "set2 = set(mapped_values[1])\n",
    "\n",
    "sets = (set1,set2)\n",
    "l2 = labels[0:2]\n",
    "\n",
    "drawVenn(sets,l2)\n",
    "v.set_dashed_circles()"
   ]
  },
  {
   "cell_type": "markdown",
   "id": "d64eaabe",
   "metadata": {},
   "source": [
    "# Work in progress\n",
    "- Increase the limited input set sizes from current 3 sets to maximum of 6 sets.\n",
    "- Add interactivity that allows the user to hover over certain sets and allow users to click a set and return the set values. "
   ]
  },
  {
   "cell_type": "markdown",
   "id": "70d29f49",
   "metadata": {},
   "source": [
    "# END\n",
    "- Thank you for taking the time to review my Final Year Project. I hope this live demonstration demonstrates the work completed over the last few months and gives a good idea of the project and its goals and aspirations."
   ]
  },
  {
   "cell_type": "code",
   "execution_count": null,
   "id": "ee6a86f2",
   "metadata": {},
   "outputs": [],
   "source": []
  },
  {
   "cell_type": "code",
   "execution_count": null,
   "id": "65ea36fb",
   "metadata": {},
   "outputs": [],
   "source": []
  },
  {
   "cell_type": "code",
   "execution_count": null,
   "id": "9ab8fb43",
   "metadata": {},
   "outputs": [],
   "source": []
  },
  {
   "cell_type": "code",
   "execution_count": null,
   "id": "f818fd1d",
   "metadata": {},
   "outputs": [],
   "source": []
  },
  {
   "cell_type": "code",
   "execution_count": null,
   "id": "2307fa15",
   "metadata": {},
   "outputs": [],
   "source": []
  },
  {
   "cell_type": "code",
   "execution_count": null,
   "id": "de1428cb",
   "metadata": {},
   "outputs": [],
   "source": []
  },
  {
   "cell_type": "code",
   "execution_count": null,
   "id": "7d2bb406",
   "metadata": {},
   "outputs": [],
   "source": []
  },
  {
   "cell_type": "code",
   "execution_count": null,
   "id": "8d2b871e",
   "metadata": {},
   "outputs": [],
   "source": []
  },
  {
   "cell_type": "code",
   "execution_count": null,
   "id": "ffd72726",
   "metadata": {},
   "outputs": [],
   "source": []
  },
  {
   "cell_type": "code",
   "execution_count": null,
   "id": "84d6b230",
   "metadata": {},
   "outputs": [],
   "source": []
  },
  {
   "cell_type": "code",
   "execution_count": null,
   "id": "d689bee1",
   "metadata": {},
   "outputs": [],
   "source": []
  },
  {
   "cell_type": "code",
   "execution_count": null,
   "id": "14f2a21c",
   "metadata": {},
   "outputs": [],
   "source": []
  },
  {
   "cell_type": "code",
   "execution_count": null,
   "id": "6d11723a",
   "metadata": {},
   "outputs": [],
   "source": []
  },
  {
   "cell_type": "code",
   "execution_count": null,
   "id": "7ac08b7e",
   "metadata": {},
   "outputs": [],
   "source": []
  },
  {
   "cell_type": "code",
   "execution_count": null,
   "id": "acc6aba8",
   "metadata": {},
   "outputs": [],
   "source": []
  },
  {
   "cell_type": "code",
   "execution_count": null,
   "id": "e9ae9ec4",
   "metadata": {},
   "outputs": [],
   "source": []
  },
  {
   "cell_type": "code",
   "execution_count": null,
   "id": "51cdf69f",
   "metadata": {},
   "outputs": [],
   "source": [
    "######################################################"
   ]
  },
  {
   "cell_type": "markdown",
   "id": "209e60e5",
   "metadata": {},
   "source": [
    "# 2 Set Venn Diagram using API"
   ]
  },
  {
   "cell_type": "code",
   "execution_count": null,
   "id": "4a6e0c00",
   "metadata": {},
   "outputs": [],
   "source": [
    "sets = (30,10,20)\n",
    "labels = ('A','B')\n",
    "\n",
    "v = drawVenn(sets, labels)"
   ]
  },
  {
   "cell_type": "markdown",
   "id": "e085e969",
   "metadata": {},
   "source": [
    "# 3 Set Venn Diagram using API\n",
    "- The API will automatically create a 3-set Venn diagram from the set and label tuples given to the drawVenn object.\n",
    "    - The API will generate a 2-set or 3-set diagram automatically based on the number if set labels inputs."
   ]
  },
  {
   "cell_type": "code",
   "execution_count": null,
   "id": "7ff6a200",
   "metadata": {},
   "outputs": [],
   "source": [
    "sets = (20, 10, 12, 10, 9, 4, 3)\n",
    "labels = ('A','B','C')\n",
    "\n",
    "v = drawVenn(sets, labels)"
   ]
  },
  {
   "cell_type": "markdown",
   "id": "a5aae13f",
   "metadata": {},
   "source": [
    "# 2 Set - Weighted vs Unweighted"
   ]
  },
  {
   "cell_type": "markdown",
   "id": "d315d3bb",
   "metadata": {},
   "source": [
    "## Weighted\n",
    "- A weighted set has size correlated to the magnitude of the set value."
   ]
  },
  {
   "cell_type": "code",
   "execution_count": null,
   "id": "8327abc8",
   "metadata": {},
   "outputs": [],
   "source": [
    "sets = (30,10,20)\n",
    "labels = ('A','B')\n",
    "\n",
    "v = drawVenn(sets, labels)"
   ]
  },
  {
   "cell_type": "markdown",
   "id": "a964c4c2",
   "metadata": {},
   "source": [
    "## Unweighted\n",
    "- Set the third argument of the drawVenn object to True to produce unweighted diagram.\n",
    "    - The API will automatically recalibrate the outputted diagram.\n",
    "- Unweighted just allows all sets to be equal size, regarless of the values in the sets."
   ]
  },
  {
   "cell_type": "code",
   "execution_count": null,
   "id": "01f9b7a4",
   "metadata": {},
   "outputs": [],
   "source": [
    "sets = (30,10,20)\n",
    "labels = ('A','B')\n",
    "\n",
    "v = drawVenn(sets, labels,True)"
   ]
  },
  {
   "cell_type": "markdown",
   "id": "dbec7642",
   "metadata": {},
   "source": [
    "# 3 Set - Weighted vs Unweighted"
   ]
  },
  {
   "cell_type": "markdown",
   "id": "d671fc24",
   "metadata": {},
   "source": [
    "## Weighted"
   ]
  },
  {
   "cell_type": "code",
   "execution_count": null,
   "id": "1f43d55a",
   "metadata": {},
   "outputs": [],
   "source": [
    "sets=(20, 10, 12, 10, 9, 4, 3)\n",
    "labels=('A','B','C')\n",
    "\n",
    "v = drawVenn(sets,labels)"
   ]
  },
  {
   "cell_type": "markdown",
   "id": "a976d5e2",
   "metadata": {},
   "source": [
    "## Unweighted"
   ]
  },
  {
   "cell_type": "code",
   "execution_count": null,
   "id": "9a2a0507",
   "metadata": {},
   "outputs": [],
   "source": [
    "sets=(20, 10, 12, 10, 9, 4, 3)\n",
    "labels=('A','B','C')\n",
    "\n",
    "v = drawVenn(sets,labels,True)"
   ]
  },
  {
   "cell_type": "markdown",
   "id": "affc56aa",
   "metadata": {},
   "source": [
    "# Modify the Venn Diagram set colours\n",
    "- Set colours can be manually selected before the drawVenn object is created.\n",
    "- The drawVenn API will default the set colours to red,green,blue."
   ]
  },
  {
   "cell_type": "code",
   "execution_count": null,
   "id": "06c18559",
   "metadata": {},
   "outputs": [],
   "source": [
    "sets = (30,10,20)\n",
    "labels = ('A','B')\n",
    "\n",
    "colours = ('purple','skyblue')\n",
    "\n",
    "v = drawVenn(sets,labels,colors=colours)"
   ]
  },
  {
   "cell_type": "markdown",
   "id": "7b9bcd3e",
   "metadata": {},
   "source": [
    "- Set colours can also be manually changed after the drawVenn object has been created."
   ]
  },
  {
   "cell_type": "markdown",
   "id": "8cdc1758",
   "metadata": {},
   "source": [
    "# Modify the Circle border "
   ]
  },
  {
   "cell_type": "markdown",
   "id": "c57a7da2",
   "metadata": {},
   "source": [
    "- Solid circle border can be created using the set_solid_circles() method."
   ]
  },
  {
   "cell_type": "code",
   "execution_count": null,
   "id": "00629d23",
   "metadata": {},
   "outputs": [],
   "source": [
    "sets = (30,10,20)\n",
    "labels = ('A','B')\n",
    "\n",
    "v = drawVenn(sets, labels)\n",
    "v.set_solid_circles()"
   ]
  },
  {
   "cell_type": "markdown",
   "id": "1e165626",
   "metadata": {},
   "source": [
    "- Dashed circle borders can be added using the set_dashed_circles() method.\n",
    "- Solid circle border can be created using the set_solid_circles() method."
   ]
  },
  {
   "cell_type": "code",
   "execution_count": null,
   "id": "4e1853d2",
   "metadata": {},
   "outputs": [],
   "source": [
    "sets = (30,10,20)\n",
    "labels = ('A','B')\n",
    "\n",
    "v = drawVenn(sets, labels)\n",
    "v.set_dashed_circles()"
   ]
  },
  {
   "cell_type": "markdown",
   "id": "375c3121",
   "metadata": {},
   "source": [
    "# Read in Biological Data"
   ]
  },
  {
   "cell_type": "code",
   "execution_count": null,
   "id": "0411a2a3",
   "metadata": {},
   "outputs": [],
   "source": [
    "def read_data(file):\n",
    "    with open(file) as f:\n",
    "        lines=f.readlines()\n",
    "        labels=[]\n",
    "        values=[]\n",
    "        for line in lines: # first three as we can only handle three sets   *** connected\n",
    "            labels.append(line.split(\":\")[0])\n",
    "            values.append(line.split(\":\")[1].split(\",\"))\n",
    "        #clean up the \";\" and \"\\n\"\n",
    "        for v in values:\n",
    "            v[-1] = v[-1].replace(';','')\n",
    "            v[-1] = v[-1].rstrip()\n",
    "        #map string values to unique integers for API input\n",
    "        mapped_values=[]\n",
    "        #1) FLATTEN\n",
    "        flat_values = [item for sublist in values for item in sublist]\n",
    "        #2) MAPPING\n",
    "        d = dict([(y,x+1) for x,y in enumerate(sorted(set(flat_values)))])\n",
    "        #3) SLICE BACK TO ORIGNAL SHAPE\n",
    "        mapped_values.append([d[x] for x in flat_values[0:6]]) #values[0] *** connected\n",
    "        mapped_values.append([d[x] for x in flat_values[6:20]])  #values[1]\n",
    "        mapped_values.append([d[x] for x in flat_values[20:36]])  #values[2]\n",
    "        #mapped_values.append([d[x] for x in flat_values[36:53]])  #values[3]\n",
    "        #mapped_values.append([d[x] for x in flat_values[53:71]])  #values[4]\n",
    "        #mapped_values.append([d[x] for x in flat_values[71:89]])  #values[4]        \n",
    "    return [labels,mapped_values,values]\n",
    "            \n",
    "        \n",
    "    \n",
    "file = \"test_model.ivenn\"\n",
    "data = read_data(file)\n",
    "\n",
    "labels = data[0]\n",
    "mapped_values = data[1]\n",
    "values = data[2]\n",
    "\n",
    "print(\"Labels:\",labels,\"\\n\")\n",
    "print(\"Mapped Values:\",mapped_values,\"\\n\")\n",
    "#print(\"Origninal Values:\",values,\"\\n\")"
   ]
  },
  {
   "cell_type": "code",
   "execution_count": null,
   "id": "3f117da2",
   "metadata": {},
   "outputs": [],
   "source": [
    "flat_values = [item for sublist in values for item in sublist]\n",
    "d = dict([(y,x+1) for x,y in enumerate(sorted(set(flat_values)))])\n",
    "\n",
    "print(flat_values[0:6])#v0 0+len(v0)= 0+6 = 6\n",
    "print(flat_values[6:20])#v1 6+len(v1)= 6+14 =20\n",
    "print(flat_values[20:36])\n",
    "print(flat_values[36:53])\n",
    "print(flat_values[53:71])\n",
    "print(flat_values[71:89])"
   ]
  },
  {
   "cell_type": "markdown",
   "id": "88537eae",
   "metadata": {},
   "source": [
    "# Test Biological data in API"
   ]
  },
  {
   "cell_type": "code",
   "execution_count": null,
   "id": "b6019fd3",
   "metadata": {},
   "outputs": [],
   "source": [
    "#set1 = set([1,2,3,10,11,12,13,14,15,16])\n",
    "#set2 = set([3,4,5])\n",
    "\n",
    "#sets = (set1,set2)\n",
    "#labels = ('A','B')\n",
    "\n",
    "#v = drawVenn(sets, labels)"
   ]
  },
  {
   "cell_type": "code",
   "execution_count": null,
   "id": "6d6658c9",
   "metadata": {},
   "outputs": [],
   "source": [
    "print(mapped_values[0])\n",
    "print(values[0])\n",
    "print()\n",
    "print(mapped_values[1])\n",
    "print(values[1])"
   ]
  },
  {
   "cell_type": "code",
   "execution_count": null,
   "id": "d45c7bec",
   "metadata": {},
   "outputs": [],
   "source": [
    "print(labels)"
   ]
  },
  {
   "cell_type": "code",
   "execution_count": null,
   "id": "fe6674d6",
   "metadata": {},
   "outputs": [],
   "source": [
    "set1 = set(mapped_values[0])\n",
    "set2 = set(mapped_values[1])\n",
    "\n",
    "sets = (set1,set2)\n",
    "l2 = labels[0:2]\n",
    "\n",
    "drawVenn(sets,l2)"
   ]
  },
  {
   "cell_type": "code",
   "execution_count": null,
   "id": "007e4ee9",
   "metadata": {},
   "outputs": [],
   "source": [
    "set1 = set(mapped_values[0])\n",
    "set2 = set(mapped_values[1])\n",
    "set3 = set(mapped_values[2])\n",
    "\n",
    "sets = (set1,set2,set3)\n",
    "l3 = labels[0:3]\n",
    "\n",
    "drawVenn(sets,l3,True)"
   ]
  },
  {
   "cell_type": "markdown",
   "id": "67c05469",
   "metadata": {},
   "source": [
    "# ******** TESTING BELOW *********"
   ]
  },
  {
   "cell_type": "markdown",
   "id": "b83b2743",
   "metadata": {},
   "source": [
    "## How to map string values to unique integer"
   ]
  },
  {
   "cell_type": "code",
   "execution_count": null,
   "id": "7320c15f",
   "metadata": {},
   "outputs": [],
   "source": [
    "l = ['e1','bat','e','car','pet','bat']\n",
    "\n",
    "\n",
    "d = dict([(y,x+1) for x,y in enumerate(sorted(set(l)))])\n",
    "\n",
    "print([d[x] for x in l[0:3]])"
   ]
  },
  {
   "cell_type": "code",
   "execution_count": null,
   "id": "5880a9e1",
   "metadata": {},
   "outputs": [],
   "source": [
    "#2\n",
    "print(values,\"\\n\")\n",
    "\n",
    "print(len(values[0]),\"\\n\")\n",
    "\n",
    "flat_values = [item for sublist in values for item in sublist]\n",
    "\n",
    "print(flat_values)"
   ]
  },
  {
   "cell_type": "code",
   "execution_count": null,
   "id": "9fa19a0c",
   "metadata": {},
   "outputs": [],
   "source": [
    "print(\"Values:\",values,\"\\n\")\n",
    "\n",
    "flat_values = [item for sublist in values for item in sublist]\n",
    "print(\"Flat values:\",flat_values)\n",
    "\n",
    "#1) flatten the list to one large list\n",
    "#2) map the flat list\n",
    "#3) slice the list back to original shape and save in mapped_values\n",
    "\n",
    "\n",
    "# MAPPING\n",
    "d = dict([(y,x+1) for x,y in enumerate(sorted(set(flat_values)))])\n",
    "print(\"Mapped Flat list: \",[d[x] for x in flat_values],\"\\n\") # large list of mapped \n",
    "\n",
    "# slice large list down to smaller lists\n",
    "#[6]\n",
    "#[14]\n",
    "#[16]\n",
    "\n",
    "mapped_v = []\n",
    "mapped_v.append([d[x] for x in flat_values[0:len(values[0])]])\n",
    "mapped_v.append([d[x] for x in flat_values[len(values[0]):]])\n",
    "print(\"Mapped Values:\",mapped_v)\n",
    "\n",
    "\n",
    "#print([d[x] for x in flat_values[0:len(values[0])]]) # values[0]\n",
    "#print([d[x] for x in flat_values[len(values[0]):]]) # values[1]\n",
    "\n",
    "#print(values[0][0:len(values[0])])\n",
    "#print([d[x] for x in flat_values[0:len(values[1])]]) # large list of mapped \n"
   ]
  },
  {
   "cell_type": "markdown",
   "id": "632d4c27",
   "metadata": {},
   "source": [
    "## Map biological values to unique integer for the API.\n",
    "- since API only allows integer values"
   ]
  },
  {
   "cell_type": "code",
   "execution_count": null,
   "id": "e44edd2b",
   "metadata": {},
   "outputs": [],
   "source": [
    "list=[]\n",
    "for v in values:\n",
    "    d = dict([(y,x+1) for x,y in enumerate(sorted(set(v)))])\n",
    "    list.append(([d[x] for x in v]))\n",
    "    \n",
    "print(list)"
   ]
  }
 ],
 "metadata": {
  "kernelspec": {
   "display_name": "Python 3",
   "language": "python",
   "name": "python3"
  },
  "language_info": {
   "codemirror_mode": {
    "name": "ipython",
    "version": 3
   },
   "file_extension": ".py",
   "mimetype": "text/x-python",
   "name": "python",
   "nbconvert_exporter": "python",
   "pygments_lexer": "ipython3",
   "version": "3.8.10"
  }
 },
 "nbformat": 4,
 "nbformat_minor": 5
}
