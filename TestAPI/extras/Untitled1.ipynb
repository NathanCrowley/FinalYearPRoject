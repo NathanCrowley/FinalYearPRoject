{
 "cells": [
  {
   "cell_type": "code",
   "execution_count": 11,
   "id": "7838a2c8",
   "metadata": {},
   "outputs": [
    {
     "name": "stdout",
     "output_type": "stream",
     "text": [
      "Requirement already satisfied: DrawVennDiagram==0.3.0 in /home/nathan/.local/lib/python3.8/site-packages (0.3.0)\n",
      "Requirement already satisfied: matplotlib-venn in /home/nathan/.local/lib/python3.8/site-packages (from DrawVennDiagram==0.3.0) (0.11.6)\n",
      "Requirement already satisfied: matplotlib in /home/nathan/.local/lib/python3.8/site-packages (from DrawVennDiagram==0.3.0) (3.4.3)\n",
      "Requirement already satisfied: scipy in /home/nathan/.local/lib/python3.8/site-packages (from matplotlib-venn->DrawVennDiagram==0.3.0) (1.7.1)\n",
      "Requirement already satisfied: numpy in /home/nathan/.local/lib/python3.8/site-packages (from matplotlib-venn->DrawVennDiagram==0.3.0) (1.21.2)\n",
      "Requirement already satisfied: pillow>=6.2.0 in /usr/lib/python3/dist-packages (from matplotlib->DrawVennDiagram==0.3.0) (7.0.0)\n",
      "Requirement already satisfied: cycler>=0.10 in /home/nathan/.local/lib/python3.8/site-packages (from matplotlib->DrawVennDiagram==0.3.0) (0.10.0)\n",
      "Requirement already satisfied: pyparsing>=2.2.1 in /home/nathan/.local/lib/python3.8/site-packages (from matplotlib->DrawVennDiagram==0.3.0) (2.4.7)\n",
      "Requirement already satisfied: python-dateutil>=2.7 in /usr/lib/python3/dist-packages (from matplotlib->DrawVennDiagram==0.3.0) (2.7.3)\n",
      "Requirement already satisfied: kiwisolver>=1.0.1 in /home/nathan/.local/lib/python3.8/site-packages (from matplotlib->DrawVennDiagram==0.3.0) (1.3.1)\n",
      "Requirement already satisfied: six in /usr/lib/python3/dist-packages (from cycler>=0.10->matplotlib->DrawVennDiagram==0.3.0) (1.14.0)\n",
      "Note: you may need to restart the kernel to use updated packages.\n"
     ]
    }
   ],
   "source": [
    "pip install DrawVennDiagram==0.3.0"
   ]
  },
  {
   "cell_type": "code",
   "execution_count": 12,
   "id": "6a6343a2",
   "metadata": {},
   "outputs": [],
   "source": [
    "from DrawVennDiagram import *"
   ]
  },
  {
   "cell_type": "code",
   "execution_count": 13,
   "id": "d860a718",
   "metadata": {},
   "outputs": [
    {
     "name": "stdout",
     "output_type": "stream",
     "text": [
      "Labels: ['name1', 'nAme 2', 'Na_Me3', 'Na_Me4', 'Na_Me', 'Na_Me'] \n",
      "\n",
      "Mapped Values: [[22, 49, 25, 21, 2, 5], [23, 50, 25, 21, 2, 5, 8, 9, 12, 27, 38, 44, 53, 18], [22, 49, 25, 21, 2, 5, 48, 35, 13, 41, 18, 24, 27, 30, 38, 44]] \n",
      "\n"
     ]
    }
   ],
   "source": [
    "file = \"test_model.ivenn\"\n",
    "data = read_data(file)\n",
    "\n",
    "labels = data[0]\n",
    "mapped_values = data[1]\n",
    "values = data[2]\n",
    "\n",
    "print(\"Labels:\",labels,\"\\n\")\n",
    "print(\"Mapped Values:\",mapped_values,\"\\n\")\n",
    "#print(\"Origninal Values:\",values,\"\\n\")"
   ]
  },
  {
   "cell_type": "code",
   "execution_count": 14,
   "id": "9ffbd7ff",
   "metadata": {},
   "outputs": [
    {
     "data": {
      "text/plain": [
       "<DrawVennDiagram.drawVenn at 0x7f710053b6a0>"
      ]
     },
     "execution_count": 14,
     "metadata": {},
     "output_type": "execute_result"
    },
    {
     "data": {
      "image/png": "[encoded data removed]",
      "text/plain": [
       "<Figure size 432x288 with 1 Axes>"
      ]
     },
     "metadata": {},
     "output_type": "display_data"
    }
   ],
   "source": [
    "set1 = set(mapped_values[0])\n",
    "set2 = set(mapped_values[1])\n",
    "\n",
    "sets = (set1,set2)\n",
    "l2 = labels[0:2]\n",
    "\n",
    "drawVenn(sets,l2)"
   ]
  },
  {
   "cell_type": "code",
   "execution_count": null,
   "id": "a91aa5b6",
   "metadata": {},
   "outputs": [],
   "source": []
  }
 ],
 "metadata": {
  "kernelspec": {
   "display_name": "Python 3",
   "language": "python",
   "name": "python3"
  },
  "language_info": {
   "codemirror_mode": {
    "name": "ipython",
    "version": 3
   },
   "file_extension": ".py",
   "mimetype": "text/x-python",
   "name": "python",
   "nbconvert_exporter": "python",
   "pygments_lexer": "ipython3",
   "version": "3.8.10"
  }
 },
 "nbformat": 4,
 "nbformat_minor": 5
}
