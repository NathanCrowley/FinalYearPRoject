{
 "cells": [
  {
   "cell_type": "code",
   "execution_count": 14,
   "id": "361462eb",
   "metadata": {},
   "outputs": [],
   "source": [
    "# library\n",
    "import matplotlib.pyplot as plt\n",
    "from matplotlib_venn import venn2, venn2_circles, venn2_unweighted\n",
    "from matplotlib_venn import venn3, venn3_circles, venn3_unweighted\n",
    "\n",
    "#Titles\n",
    "'''title = \"Venn Diagram\"'''\n",
    "weighted_title = \"- weighted \"\n",
    "unweighted_title = \"- unweighted \"\n",
    "three_sets_title = \" - 3 sets \"\n",
    "two_sets_title = \" - 2 sets \"\n",
    "#Colours\n",
    "default_two_set_colours = (\"\")\n",
    "#Labels\n",
    "default_labels=[\"A\",\"B\",\"C\",\"D\",\"E\",\"F\"]\n",
    "\n",
    "'''\n",
    "8/2/22 - trying to get the colour setter and label settter working\n",
    "- make it interactvie\n",
    "- post it to pyPI\n",
    "'''\n",
    "\n",
    "## How to use ****** currently only 2 set venn diagram ****---------------------\n",
    "'''\n",
    "- create a drawVenn object with 'subsets' and 'labels' as attributes.\n",
    "- you can show the venn diagram with the print(object) fucntion.\n",
    "- the api will know if its a 2 or 3 set diagram based on the labels inputted.\n",
    "'''\n",
    "## ------------------------------------------------------------------------------\n",
    "\n",
    "class drawVenn:\n",
    "    def __init__(self,subsets,labels,unweighted=False):\n",
    "        self.subsets = subsets\n",
    "        self.labels = labels\n",
    "        self.number_of_sets = len(labels)\n",
    "        self.unweighted = unweighted\n",
    "        self.title = \"Venn Diagram\"\n",
    "        if self.number_of_sets == 3: # 3 set Venn diagram\n",
    "            if self.unweighted == False:\n",
    "                venn3(subsets=self.subsets, set_labels=self.labels) \n",
    "            elif self.unweighted == True:\n",
    "                venn3_unweighted(subsets=self.subsets, set_labels=self.labels)\n",
    "        elif self.number_of_sets == 2: # 2 set Venn diagram\n",
    "            if self.unweighted == False:\n",
    "                venn2(subsets=self.subsets, set_labels=self.labels)\n",
    "            elif self.unweighted == True:\n",
    "                venn2_unweighted(subsets=self.subsets, set_labels=self.labels)\n",
    "\n",
    "def __str__(self):\n",
    "    title = self.title\n",
    "    if self.number_of_sets == 3:       # 3 set Venn diagram\n",
    "        title += three_sets_title\n",
    "        if self.unweighted == False:\n",
    "            title += weighted_title\n",
    "        else:\n",
    "            title += unweighted_title\n",
    "    else:                              # 2 set Venn diagram\n",
    "        title += two_sets_title\n",
    "        if self.unweighted == True:\n",
    "            title += weighted_title\n",
    "        else:\n",
    "            title += unweighted_title\n",
    "    plt.title(title)\n",
    "    plt.show()\n",
    "\n",
    "# Getters and setters\n",
    "def set_labels(self, labels):\n",
    "    self.labels = labels\n",
    "\n",
    "def set_circles_design(self):\n",
    "    pass\n",
    "#-------------------------------------------------------------------------------------------------------------------------------------------------\t\n"
   ]
  },
  {
   "cell_type": "markdown",
   "id": "e5f0fc8f",
   "metadata": {},
   "source": [
    "# Test drawVenn class"
   ]
  },
  {
   "cell_type": "markdown",
   "id": "ed181557",
   "metadata": {},
   "source": [
    "## Steps needed to run drawVenn class:\n",
    "- Create your sets\n",
    "    - set1= set([0,1,2])\n",
    "    - set2= set([2,3,4])\n",
    "- Assign your set labes\n",
    "     - labels = (\"A\",\"B\")\n",
    "- Create a drawVenn object, passing your sets as a tuple of inputs.\n",
    "    - v1 = drawVenn([set1,set2],labels)\n",
    "- Print the drawVenn object.\n",
    "    - print(v1)"
   ]
  },
  {
   "cell_type": "markdown",
   "id": "66dfbbb6",
   "metadata": {},
   "source": [
    "## Why is drawVenn printing occurances of sets and not value?"
   ]
  },
  {
   "cell_type": "code",
   "execution_count": 39,
   "id": "c1bc697d",
   "metadata": {},
   "outputs": [
    {
     "data": {
      "image/png": "[encoded data removed]",
      "text/plain": [
       "<Figure size 432x288 with 1 Axes>"
      ]
     },
     "metadata": {},
     "output_type": "display_data"
    }
   ],
   "source": [
    "# Use the venn2 function\n",
    "venn2(subsets = (10, 5, 2), set_labels = ('Group A', 'Group B'))\n",
    "plt.show()"
   ]
  },
  {
   "cell_type": "markdown",
   "id": "d21a0f1c",
   "metadata": {},
   "source": [
    "# 2 set Venn weighted"
   ]
  },
  {
   "cell_type": "code",
   "execution_count": 37,
   "id": "376e9b6a",
   "metadata": {},
   "outputs": [
    {
     "name": "stdout",
     "output_type": "stream",
     "text": [
      "<__main__.drawVenn object at 0x7fbbd01a3eb0>\n"
     ]
    },
    {
     "data": {
      "image/png": "[encoded data removed]",
      "text/plain": [
       "<Figure size 432x288 with 1 Axes>"
      ]
     },
     "metadata": {},
     "output_type": "display_data"
    }
   ],
   "source": [
    "# CREATE SETS\n",
    "set1 = set([30,5])\n",
    "set2 = set([10,5])\n",
    "# ASSIGN LABELS\n",
    "labels=(\"A\",\"B\")\n",
    "# CREATE drawVenn OBJECT\n",
    "v2_i = drawVenn([set1,set2], labels)\n",
    "# PRINT \n",
    "print(v2_i)"
   ]
  },
  {
   "cell_type": "markdown",
   "id": "574f1197",
   "metadata": {},
   "source": [
    "# 2 set Venn unweighted"
   ]
  },
  {
   "cell_type": "code",
   "execution_count": 32,
   "id": "cbce31f1",
   "metadata": {},
   "outputs": [
    {
     "name": "stdout",
     "output_type": "stream",
     "text": [
      "<__main__.drawVenn object at 0x7fbbcffe59d0>\n"
     ]
    },
    {
     "data": {
      "image/png": "[encoded data removed]",
      "text/plain": [
       "<Figure size 432x288 with 1 Axes>"
      ]
     },
     "metadata": {},
     "output_type": "display_data"
    }
   ],
   "source": [
    "# CREATE SETS\n",
    "set1 = set([30,5])\n",
    "set2 = set([10,5])\n",
    "# ASSIGN LABELS\n",
    "labels=(\"A\",\"B\")\n",
    "# CREATE drawVenn OBJECT\n",
    "v2_ii = drawVenn([v1_set1,v1_set2], labels, True)\n",
    "# PRINT \n",
    "print(v2_ii)"
   ]
  },
  {
   "cell_type": "markdown",
   "id": "bd9ed0e2",
   "metadata": {},
   "source": [
    "# 3 set Venn weighted"
   ]
  },
  {
   "cell_type": "code",
   "execution_count": 33,
   "id": "ca14616a",
   "metadata": {},
   "outputs": [
    {
     "name": "stdout",
     "output_type": "stream",
     "text": [
      "<__main__.drawVenn object at 0x7fbbcffbc7f0>\n"
     ]
    },
    {
     "data": {
      "image/png": "[encoded data removed]",
      "text/plain": [
       "<Figure size 432x288 with 1 Axes>"
      ]
     },
     "metadata": {},
     "output_type": "display_data"
    }
   ],
   "source": [
    "# CREATE SETS\n",
    "v2_set1 = set([1,11,5])\n",
    "v2_set2 = set([2,22,5])\n",
    "v2_set3 = set([3,33,5])\n",
    "# ASSIGN LABELS\n",
    "labels=(\"A\",\"B\")\n",
    "# CREATE drawVenn OBJECT\n",
    "v3_i = drawVenn([v2_set1,v2_set2,v2_set3],('A','B','C'))\n",
    "# PRINT \n",
    "print(v3_i)"
   ]
  },
  {
   "cell_type": "markdown",
   "id": "7aa05280",
   "metadata": {},
   "source": [
    "# 3 set Venn unweighted"
   ]
  },
  {
   "cell_type": "code",
   "execution_count": 34,
   "id": "59e2d008",
   "metadata": {},
   "outputs": [
    {
     "name": "stdout",
     "output_type": "stream",
     "text": [
      "<__main__.drawVenn object at 0x7fbbcffbcd30>\n"
     ]
    },
    {
     "data": {
      "image/png": "[encoded data removed]",
      "text/plain": [
       "<Figure size 432x288 with 1 Axes>"
      ]
     },
     "metadata": {},
     "output_type": "display_data"
    }
   ],
   "source": [
    "# CREATE SETS\n",
    "v2_set1 = set([1,11,5])\n",
    "v2_set2 = set([2,22,5])\n",
    "v2_set3 = set([3,33,5])\n",
    "# ASSIGN LABELS\n",
    "labels=(\"A\",\"B\")\n",
    "# CREATE drawVenn OBJECT\n",
    "v3_ii = drawVenn([v2_set1,v2_set2,v2_set3],('A','B','C'),True)\n",
    "# PRINT \n",
    "print(v3_ii)"
   ]
  },
  {
   "cell_type": "code",
   "execution_count": 4,
   "id": "f53dd156",
   "metadata": {},
   "outputs": [
    {
     "name": "stdout",
     "output_type": "stream",
     "text": [
      "<__main__.drawVenn object at 0x7fbc0c15d8b0>\n"
     ]
    },
    {
     "data": {
      "text/plain": [
       "'\\nPatch IDs = 01,10,11\\n'"
      ]
     },
     "execution_count": 4,
     "metadata": {},
     "output_type": "execute_result"
    },
    {
     "data": {
      "image/png": "[encoded data removed]",
      "text/plain": [
       "<Figure size 432x288 with 1 Axes>"
      ]
     },
     "metadata": {},
     "output_type": "display_data"
    }
   ],
   "source": [
    "#from test_features import drawVenn\n",
    "\n",
    "# V1\n",
    "v1_set1 = set([1,2,3])\n",
    "v1_set2 = set([3,4,5])\n",
    "\n",
    "# V2\n",
    "v2_set1 = set([1,11,5])\n",
    "v2_set2 = set([2,22,5])\n",
    "v2_set3 = set([3,33,5])\n",
    "\n",
    "\n",
    "## Only really have once instance of the venn diagram at a time\n",
    "\n",
    "'''\n",
    "Expect a 2 set Venn Diagram - weighted\n",
    ">> v1 = drawVenn([v1_set1,v1_set2], ('A','B'))\n",
    "'''\n",
    "\n",
    "'''\n",
    "Excpet a 2 set Venn Diagram - unweighted\n",
    ">> v1 = drawVenn([v1_set1,v1_set2], ('A','B'), True)\n",
    "'''\n",
    "\n",
    "'''\n",
    "Expect a 3 set VD - weighted\n",
    ">> v1 = drawVenn([v2_set1,v2_set2,v2_set3],('A','B','C'))\n",
    "'''\n",
    "\n",
    "'''\n",
    "Expect a 3 set VD - unweighted\n",
    "v1 = drawVenn([v2_set1,v2_set2,v2_set3],('A','B','C'),True)\n",
    "'''\n",
    "\n",
    "#------------------------------------------------------------------\n",
    "#v1 = drawVenn([v1_set1,v1_set2], ('A','B'))\n",
    "#v1.set_labels((\"nathan\",\"John\"))\n",
    "\n",
    "#v1 = drawVenn([v2_set1,v2_set2,v2_set3],('A','B','C'))\n",
    "\n",
    "#Excpet a 2 set Venn Diagram - unweighted\n",
    "v1 = drawVenn([v1_set1,v1_set2], ('A','B'), True)\n",
    "print(v1)\n",
    "\n",
    "\n",
    "'''\n",
    "Patch IDs = 01,10,11\n",
    "'''"
   ]
  },
  {
   "cell_type": "code",
   "execution_count": null,
   "id": "a30493d8",
   "metadata": {},
   "outputs": [],
   "source": []
  }
 ],
 "metadata": {
  "kernelspec": {
   "display_name": "Python 3",
   "language": "python",
   "name": "python3"
  },
  "language_info": {
   "codemirror_mode": {
    "name": "ipython",
    "version": 3
   },
   "file_extension": ".py",
   "mimetype": "text/x-python",
   "name": "python",
   "nbconvert_exporter": "python",
   "pygments_lexer": "ipython3",
   "version": "3.8.10"
  }
 },
 "nbformat": 4,
 "nbformat_minor": 5
}
